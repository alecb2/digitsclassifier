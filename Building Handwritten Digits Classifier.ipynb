{
 "cells": [
  {
   "cell_type": "code",
   "execution_count": 1,
   "metadata": {},
   "outputs": [
    {
     "name": "stdout",
     "output_type": "stream",
     "text": [
      "0    0\n",
      "1    1\n",
      "dtype: int64\n"
     ]
    },
    {
     "data": {
      "text/html": [
       "<div>\n",
       "<style scoped>\n",
       "    .dataframe tbody tr th:only-of-type {\n",
       "        vertical-align: middle;\n",
       "    }\n",
       "\n",
       "    .dataframe tbody tr th {\n",
       "        vertical-align: top;\n",
       "    }\n",
       "\n",
       "    .dataframe thead th {\n",
       "        text-align: right;\n",
       "    }\n",
       "</style>\n",
       "<table border=\"1\" class=\"dataframe\">\n",
       "  <thead>\n",
       "    <tr style=\"text-align: right;\">\n",
       "      <th></th>\n",
       "      <th>0</th>\n",
       "      <th>1</th>\n",
       "      <th>2</th>\n",
       "      <th>3</th>\n",
       "      <th>4</th>\n",
       "      <th>5</th>\n",
       "      <th>6</th>\n",
       "      <th>7</th>\n",
       "      <th>8</th>\n",
       "      <th>9</th>\n",
       "      <th>...</th>\n",
       "      <th>54</th>\n",
       "      <th>55</th>\n",
       "      <th>56</th>\n",
       "      <th>57</th>\n",
       "      <th>58</th>\n",
       "      <th>59</th>\n",
       "      <th>60</th>\n",
       "      <th>61</th>\n",
       "      <th>62</th>\n",
       "      <th>63</th>\n",
       "    </tr>\n",
       "  </thead>\n",
       "  <tbody>\n",
       "    <tr>\n",
       "      <td>0</td>\n",
       "      <td>0.0</td>\n",
       "      <td>0.0</td>\n",
       "      <td>5.0</td>\n",
       "      <td>13.0</td>\n",
       "      <td>9.0</td>\n",
       "      <td>1.0</td>\n",
       "      <td>0.0</td>\n",
       "      <td>0.0</td>\n",
       "      <td>0.0</td>\n",
       "      <td>0.0</td>\n",
       "      <td>...</td>\n",
       "      <td>0.0</td>\n",
       "      <td>0.0</td>\n",
       "      <td>0.0</td>\n",
       "      <td>0.0</td>\n",
       "      <td>6.0</td>\n",
       "      <td>13.0</td>\n",
       "      <td>10.0</td>\n",
       "      <td>0.0</td>\n",
       "      <td>0.0</td>\n",
       "      <td>0.0</td>\n",
       "    </tr>\n",
       "    <tr>\n",
       "      <td>1</td>\n",
       "      <td>0.0</td>\n",
       "      <td>0.0</td>\n",
       "      <td>0.0</td>\n",
       "      <td>12.0</td>\n",
       "      <td>13.0</td>\n",
       "      <td>5.0</td>\n",
       "      <td>0.0</td>\n",
       "      <td>0.0</td>\n",
       "      <td>0.0</td>\n",
       "      <td>0.0</td>\n",
       "      <td>...</td>\n",
       "      <td>0.0</td>\n",
       "      <td>0.0</td>\n",
       "      <td>0.0</td>\n",
       "      <td>0.0</td>\n",
       "      <td>0.0</td>\n",
       "      <td>11.0</td>\n",
       "      <td>16.0</td>\n",
       "      <td>10.0</td>\n",
       "      <td>0.0</td>\n",
       "      <td>0.0</td>\n",
       "    </tr>\n",
       "  </tbody>\n",
       "</table>\n",
       "<p>2 rows × 64 columns</p>\n",
       "</div>"
      ],
      "text/plain": [
       "    0    1    2     3     4    5    6    7    8    9   ...   54   55   56  \\\n",
       "0  0.0  0.0  5.0  13.0   9.0  1.0  0.0  0.0  0.0  0.0  ...  0.0  0.0  0.0   \n",
       "1  0.0  0.0  0.0  12.0  13.0  5.0  0.0  0.0  0.0  0.0  ...  0.0  0.0  0.0   \n",
       "\n",
       "    57   58    59    60    61   62   63  \n",
       "0  0.0  6.0  13.0  10.0   0.0  0.0  0.0  \n",
       "1  0.0  0.0  11.0  16.0  10.0  0.0  0.0  \n",
       "\n",
       "[2 rows x 64 columns]"
      ]
     },
     "execution_count": 1,
     "metadata": {},
     "output_type": "execute_result"
    }
   ],
   "source": [
    "from sklearn.datasets import load_digits\n",
    "import numpy as np\n",
    "import pandas as pd\n",
    "import matplotlib.pyplot as plt\n",
    "\n",
    "# import handwritten digits data in table\n",
    "\n",
    "data = load_digits()\n",
    "labels = pd.Series(data['target'])\n",
    "digits = pd.DataFrame(data['data'])\n",
    "print(labels.head(2))\n",
    "digits.head(2)"
   ]
  },
  {
   "cell_type": "code",
   "execution_count": 2,
   "metadata": {},
   "outputs": [
    {
     "data": {
      "text/plain": [
       "<matplotlib.image.AxesImage at 0x1a1a0dad90>"
      ]
     },
     "execution_count": 2,
     "metadata": {},
     "output_type": "execute_result"
    },
    {
     "data": {
      "image/png": "[encoded data removed]",
      "text/plain": [
       "<Figure size 432x288 with 1 Axes>"
      ]
     },
     "metadata": {
      "needs_background": "light"
     },
     "output_type": "display_data"
    }
   ],
   "source": [
    "# convert row in 8x8 array to visualize the numbers\n",
    "\n",
    "first_image = digits.iloc[6]\n",
    "np_first_image = first_image.values\n",
    "np_first_image = np_first_image.reshape(8,8)\n",
    "\n",
    "plt.imshow(np_first_image, cmap = 'gray_r')"
   ]
  },
  {
   "cell_type": "code",
   "execution_count": 3,
   "metadata": {},
   "outputs": [
    {
     "data": {
      "text/plain": [
       "<matplotlib.image.AxesImage at 0x1a1a11dd50>"
      ]
     },
     "execution_count": 3,
     "metadata": {},
     "output_type": "execute_result"
    },
    {
     "data": {
      "image/png": "[encoded data removed]",
      "text/plain": [
       "<Figure size 432x288 with 8 Axes>"
      ]
     },
     "metadata": {
      "needs_background": "light"
     },
     "output_type": "display_data"
    }
   ],
   "source": [
    "f, fig = plt.subplots(2,4)\n",
    "\n",
    "fig[0,0].imshow(digits.iloc[0].values.reshape(8,8), cmap = 'gray_r')\n",
    "fig[0,1].imshow(digits.iloc[100].values.reshape(8,8), cmap = 'gray_r')\n",
    "fig[0,2].imshow(digits.iloc[200].values.reshape(8,8), cmap = 'gray_r')\n",
    "fig[0,3].imshow(digits.iloc[300].values.reshape(8,8), cmap = 'gray_r')\n",
    "\n",
    "fig[1,0].imshow(digits.iloc[1000].values.reshape(8,8), cmap = 'gray_r')\n",
    "fig[1,1].imshow(digits.iloc[1100].values.reshape(8,8), cmap = 'gray_r')\n",
    "fig[1,2].imshow(digits.iloc[1200].values.reshape(8,8), cmap = 'gray_r')\n",
    "fig[1,3].imshow(digits.iloc[1300].values.reshape(8,8), cmap = 'gray_r')"
   ]
  },
  {
   "cell_type": "code",
   "execution_count": 4,
   "metadata": {},
   "outputs": [
    {
     "name": "stdout",
     "output_type": "stream",
     "text": [
      "898 899\n"
     ]
    }
   ],
   "source": [
    "from sklearn.model_selection import train_test_split\n",
    "\n",
    "# split the data in train and test datasets\n",
    "# 50% split\n",
    "\n",
    "x_train, x_test, y_train, y_test = train_test_split(digits, labels, test_size = .5, random_state = 1)\n",
    "\n",
    "print(x_train.shape[0], x_test.shape[0])\n",
    "\n"
   ]
  },
  {
   "cell_type": "code",
   "execution_count": 5,
   "metadata": {},
   "outputs": [
    {
     "data": {
      "text/plain": [
       "0.9677233358079684"
      ]
     },
     "execution_count": 5,
     "metadata": {},
     "output_type": "execute_result"
    }
   ],
   "source": [
    "from sklearn.neighbors import KNeighborsClassifier\n",
    "from sklearn.model_selection import KFold\n",
    "\n",
    "# create functions for training and testing knn model\n",
    "\n",
    "def train(k, train_features, train_labels):\n",
    "    knn = KNeighborsClassifier(n_neighbors = k)\n",
    "    knn.fit(train_features, train_labels)\n",
    "    return knn\n",
    "\n",
    "def test(model, test_features, test_labels):\n",
    "    predictions = model.predict(test_features)\n",
    "    test_df = pd.DataFrame()\n",
    "    test_df['labels'] = test_labels\n",
    "    test_df['predictions'] = predictions\n",
    "    accuracy = (sum(test_df['labels'] == test_df['predictions']) / len(test_df))\n",
    "    return accuracy\n",
    "    \n",
    "def cross_validate(k, splits = 4):\n",
    "    fold_accuracies = []\n",
    "    kf = KFold(n_splits = splits, random_state = 1)\n",
    "    \n",
    "    for train_index, test_index in kf.split(digits):\n",
    "        train_features, test_features = digits.loc[train_index], digits.loc[test_index]\n",
    "        train_labels, test_labels = labels.loc[train_index], labels.loc[test_index]\n",
    "        model = train(k, train_features, train_labels)\n",
    "        accuracy = test(model, test_features, test_labels)\n",
    "        fold_accuracies.append(accuracy)\n",
    "    return fold_accuracies\n",
    "\n",
    "\n",
    "np.mean(cross_validate(1))\n"
   ]
  },
  {
   "cell_type": "code",
   "execution_count": 18,
   "metadata": {},
   "outputs": [
    {
     "name": "stdout",
     "output_type": "stream",
     "text": [
      "   range  accuracy\n",
      "0      1  0.967723\n",
      "3      4  0.964948\n",
      "2      3  0.962718\n",
      "4      5  0.962167\n",
      "1      2  0.961601\n",
      "5      6  0.958827\n",
      "6      7  0.957159\n",
      "7      8  0.957158\n",
      "8      9  0.954380\n",
      "9     10  0.952710\n"
     ]
    }
   ],
   "source": [
    "# train/test for various values of neighbors\n",
    "\n",
    "kneighbors_test = list(range(1,11))\n",
    "accuracy_tests = []\n",
    "\n",
    "for i in kneighbors_test:\n",
    "    accuracies = cross_validate(i)\n",
    "    accuracy = np.mean(accuracies)\n",
    "    accuracy_tests.append(accuracy)\n",
    "    \n",
    "accuracy_test_df = pd.DataFrame()\n",
    "\n",
    "accuracy_test_df['range'] = kneighbors_test\n",
    "accuracy_test_df['accuracy'] = accuracy_tests\n",
    "\n",
    "\n",
    "print(accuracy_test_df.sort_values(by = 'accuracy',ascending = False))"
   ]
  },
  {
   "cell_type": "markdown",
   "metadata": {},
   "source": [
    "The K-Nearest Neighbors algorithm is able to predict with accuracy of about 96%."
   ]
  },
  {
   "cell_type": "code",
   "execution_count": 13,
   "metadata": {},
   "outputs": [],
   "source": [
    "from sklearn.neural_network import MLPClassifier\n",
    "\n",
    "# use neural network with one hidden layer to predict numbers\n",
    "\n",
    "def train_nn(neuron_size, train_features, train_labels):\n",
    "    nn = MLPClassifier(hidden_layer_sizes = neuron_size)\n",
    "    nn.fit(train_features, train_labels)\n",
    "    return nn\n",
    "\n",
    "# utilize test(model, test_features, test_labels) func from previous step which will work here too\n",
    "\n",
    "def cross_val_nn(neurons, splits = 4):\n",
    "    fold_accuracies = []\n",
    "    kf = KFold(n_splits = splits, random_state = 2)\n",
    "    \n",
    "    for train_index, test_index in kf.split(digits):\n",
    "        train_features, test_features = digits.loc[train_index], digits.loc[test_index]\n",
    "        train_labels, test_labels = labels.loc[train_index], labels.loc[test_index]\n",
    "        model = train_nn(neurons, train_features, train_labels) # train_nn() func\n",
    "        accuracy = test(model, test_features, test_labels)\n",
    "        fold_accuracies.append(accuracy)\n",
    "    return fold_accuracies\n",
    "\n"
   ]
  },
  {
   "cell_type": "code",
   "execution_count": 14,
   "metadata": {},
   "outputs": [
    {
     "name": "stderr",
     "output_type": "stream",
     "text": [
      "/opt/anaconda3/lib/python3.7/site-packages/sklearn/neural_network/multilayer_perceptron.py:566: ConvergenceWarning: Stochastic Optimizer: Maximum iterations (200) reached and the optimization hasn't converged yet.\n",
      "  % self.max_iter, ConvergenceWarning)\n",
      "/opt/anaconda3/lib/python3.7/site-packages/sklearn/neural_network/multilayer_perceptron.py:566: ConvergenceWarning: Stochastic Optimizer: Maximum iterations (200) reached and the optimization hasn't converged yet.\n",
      "  % self.max_iter, ConvergenceWarning)\n",
      "/opt/anaconda3/lib/python3.7/site-packages/sklearn/neural_network/multilayer_perceptron.py:566: ConvergenceWarning: Stochastic Optimizer: Maximum iterations (200) reached and the optimization hasn't converged yet.\n",
      "  % self.max_iter, ConvergenceWarning)\n",
      "/opt/anaconda3/lib/python3.7/site-packages/sklearn/neural_network/multilayer_perceptron.py:566: ConvergenceWarning: Stochastic Optimizer: Maximum iterations (200) reached and the optimization hasn't converged yet.\n",
      "  % self.max_iter, ConvergenceWarning)\n",
      "/opt/anaconda3/lib/python3.7/site-packages/sklearn/neural_network/multilayer_perceptron.py:566: ConvergenceWarning: Stochastic Optimizer: Maximum iterations (200) reached and the optimization hasn't converged yet.\n",
      "  % self.max_iter, ConvergenceWarning)\n",
      "/opt/anaconda3/lib/python3.7/site-packages/sklearn/neural_network/multilayer_perceptron.py:566: ConvergenceWarning: Stochastic Optimizer: Maximum iterations (200) reached and the optimization hasn't converged yet.\n",
      "  % self.max_iter, ConvergenceWarning)\n",
      "/opt/anaconda3/lib/python3.7/site-packages/sklearn/neural_network/multilayer_perceptron.py:566: ConvergenceWarning: Stochastic Optimizer: Maximum iterations (200) reached and the optimization hasn't converged yet.\n",
      "  % self.max_iter, ConvergenceWarning)\n",
      "/opt/anaconda3/lib/python3.7/site-packages/sklearn/neural_network/multilayer_perceptron.py:566: ConvergenceWarning: Stochastic Optimizer: Maximum iterations (200) reached and the optimization hasn't converged yet.\n",
      "  % self.max_iter, ConvergenceWarning)\n",
      "/opt/anaconda3/lib/python3.7/site-packages/sklearn/neural_network/multilayer_perceptron.py:566: ConvergenceWarning: Stochastic Optimizer: Maximum iterations (200) reached and the optimization hasn't converged yet.\n",
      "  % self.max_iter, ConvergenceWarning)\n",
      "/opt/anaconda3/lib/python3.7/site-packages/sklearn/neural_network/multilayer_perceptron.py:566: ConvergenceWarning: Stochastic Optimizer: Maximum iterations (200) reached and the optimization hasn't converged yet.\n",
      "  % self.max_iter, ConvergenceWarning)\n",
      "/opt/anaconda3/lib/python3.7/site-packages/sklearn/neural_network/multilayer_perceptron.py:566: ConvergenceWarning: Stochastic Optimizer: Maximum iterations (200) reached and the optimization hasn't converged yet.\n",
      "  % self.max_iter, ConvergenceWarning)\n",
      "/opt/anaconda3/lib/python3.7/site-packages/sklearn/neural_network/multilayer_perceptron.py:566: ConvergenceWarning: Stochastic Optimizer: Maximum iterations (200) reached and the optimization hasn't converged yet.\n",
      "  % self.max_iter, ConvergenceWarning)\n"
     ]
    },
    {
     "data": {
      "text/plain": [
       "[<matplotlib.lines.Line2D at 0x1a1b4391d0>]"
      ]
     },
     "execution_count": 14,
     "metadata": {},
     "output_type": "execute_result"
    },
    {
     "data": {
      "image/png": "[encoded data removed]",
      "text/plain": [
       "<Figure size 432x288 with 1 Axes>"
      ]
     },
     "metadata": {
      "needs_background": "light"
     },
     "output_type": "display_data"
    }
   ],
   "source": [
    "# check accuracies for single hidden layer, different numbers of neurons\n",
    "\n",
    "neurons_list = [(8,), (16,), (32,), (64,), (128,), (256,)]\n",
    "nn_accuracies = []\n",
    "\n",
    "for i in neurons_list:\n",
    "    accuracies = cross_val_nn(i)\n",
    "    acc_mean = np.mean(accuracies)\n",
    "    nn_accuracies.append(acc_mean)\n",
    "    \n",
    "\n",
    "n_neur = [8,16,32,64,128,256]    \n",
    "plt.plot(n_neur, nn_accuracies)"
   ]
  },
  {
   "cell_type": "code",
   "execution_count": 15,
   "metadata": {},
   "outputs": [
    {
     "name": "stdout",
     "output_type": "stream",
     "text": [
      "[0.821347438752784, 0.9026156891858451, 0.9176416728532542, 0.9393417470923039, 0.9376639445681761, 0.9471269487750557]\n"
     ]
    }
   ],
   "source": [
    "print(nn_accuracies)"
   ]
  },
  {
   "cell_type": "markdown",
   "metadata": {},
   "source": [
    "With the varying number of neurons with one hidden layer, the accuracy increased with the higher number of neruons for the most part. However the max accuracy was 95.5% which is less than the 96% accuracy from the K-Nearest Neighbors algorithm, so we wouldn't want to use one hidden layer instead since it adds no value."
   ]
  },
  {
   "cell_type": "code",
   "execution_count": 16,
   "metadata": {},
   "outputs": [
    {
     "data": {
      "text/plain": [
       "[<matplotlib.lines.Line2D at 0x1a1b6a2e10>]"
      ]
     },
     "execution_count": 16,
     "metadata": {},
     "output_type": "execute_result"
    },
    {
     "data": {
      "image/png": "[encoded data removed]",
      "text/plain": [
       "<Figure size 432x288 with 1 Axes>"
      ]
     },
     "metadata": {
      "needs_background": "light"
     },
     "output_type": "display_data"
    }
   ],
   "source": [
    "# try adding in additional layers\n",
    "\n",
    "neurons_list2 = [(64,64), (128,128), (256,256)]\n",
    "nn_accuracies2 = []\n",
    "\n",
    "for i in neurons_list2:\n",
    "    accuracies = cross_val_nn(i)\n",
    "    acc_mean = np.mean(accuracies)\n",
    "    nn_accuracies2.append(acc_mean)\n",
    "    \n",
    "n_neur2 = ['64', '128', '256']    \n",
    "plt.plot(n_neur2, nn_accuracies2)"
   ]
  },
  {
   "cell_type": "markdown",
   "metadata": {},
   "source": [
    "The performance of 2 hidden layer network follows a similar trend to the 1 layer, and the accuracy is only slightly better (<96%) which means that KNN is still more effective at this stage."
   ]
  },
  {
   "cell_type": "code",
   "execution_count": 17,
   "metadata": {},
   "outputs": [
    {
     "data": {
      "text/plain": [
       "[<matplotlib.lines.Line2D at 0x1a1fc054d0>]"
      ]
     },
     "execution_count": 17,
     "metadata": {},
     "output_type": "execute_result"
    },
    {
     "data": {
      "image/png": "[encoded data removed]",
      "text/plain": [
       "<Figure size 432x288 with 1 Axes>"
      ]
     },
     "metadata": {
      "needs_background": "light"
     },
     "output_type": "display_data"
    }
   ],
   "source": [
    "# test our 3 hidden layers - tends to overfit so going to increase the number of k-folds to 6 instead of 4\n",
    "\n",
    "neurons_list3 = [(64,64,64), (128,128,128), (256,256,256)]\n",
    "nn_accuracies3 = []\n",
    "\n",
    "for i in neurons_list3:\n",
    "    accuracies = cross_val_nn(neurons = i, splits = 6) # adjusting splits to 6\n",
    "    acc_mean = np.mean(accuracies)\n",
    "    nn_accuracies3.append(acc_mean)\n",
    "    \n",
    "    \n",
    "n_neur3 = ['64', '128', '256']\n",
    "plt.plot(n_neur3, nn_accuracies3)\n",
    "    "
   ]
  },
  {
   "cell_type": "markdown",
   "metadata": {},
   "source": [
    "By using 3 hidden layers and 6 fold cross validation, we're able to increase the accuracy up to 96% which is in line with the KNN algorithm. We generally see from this that increasing the number of hidden layers and neurons increases accuracy. "
   ]
  }
 ],
 "metadata": {
  "kernelspec": {
   "display_name": "Python 3",
   "language": "python",
   "name": "python3"
  },
  "language_info": {
   "codemirror_mode": {
    "name": "ipython",
    "version": 3
   },
   "file_extension": ".py",
   "mimetype": "text/x-python",
   "name": "python",
   "nbconvert_exporter": "python",
   "pygments_lexer": "ipython3",
   "version": "3.7.4"
  }
 },
 "nbformat": 4,
 "nbformat_minor": 2
}
